{
 "cells": [
  {
   "cell_type": "markdown",
   "id": "50a4a7d3",
   "metadata": {},
   "source": [
    "# Mr.Vinayak Vijay Kulkarni\n"
   ]
  },
  {
   "cell_type": "markdown",
   "id": "8a561891",
   "metadata": {},
   "source": [
    "# Exploratory Data Analysing Using Youtube Video Data from Most Popular Data Science Channels"
   ]
  },
  {
   "cell_type": "markdown",
   "id": "060d2f71",
   "metadata": {},
   "source": [
    "# 1. Aims, objectives and background\n",
    "\n",
    "## 1.1. Introduction\n",
    "\n",
    "Founded in 2005, Youtube has grown to become the second largest search engine in the world (behind Google) that processes more than 3 billion searches per month. [[1]](https://www.mushroomnetworks.com/infographics/youtube---the-2nd-largest-search-engine-infographic/). It is, however, generally a myth how the Youtube algorithm works, what makes a video get views and be recommended over another. In fact, YouTube has one of the largest scale and most sophisticated industrial recommendation systems in existence [[2]](https://dl.acm.org/doi/10.1145/2959100.2959190). For new content creators, it is a challenge to understand why a video gets video and others do not. There are many \"myths\" around the success of a Youtube video [[3]](https://vidiq.com/blog/post/5-youtube-algorithm-myths-youtubers-need-to-know-about/), for example if the video has more likes or comments, or if the video is of a certain duration. It is also worth experimenting and looking for \"trends\" in the topics that Youtube channels are covering in a certain niche.\n",
    "\n",
    "Having recently stepping into the content creation world with a new Youtube channel on data analytics and data science, I decided to gain some insights on this topic which might be useful for other new content creators. The scope of this small project is limited to data science channels and I will not consider other niches (that might have a different characteristics and audience base). Therefore, in this project will explore the statistics of around 10 most successful data science Youtube channel.\n",
    "\n",
    "## 1.2. Aims and objectives\n",
    "\n",
    "Within this project, I would like to explore the following:\n",
    "\n",
    "- Getting to know Youtube API and how to obtain video data.\n",
    "- Analyzing video data and verify different common \"myths\" about what makes a video do well on Youtube, for example:\n",
    "    - Does the number of likes and comments matter for a video to get more views?\n",
    "    - Does the video duration matter for views and interaction (likes/ comments)?\n",
    "    - Does title length matter for views?\n",
    "    - How many tags do good performing videos have? What are the common tags among these videos?\n",
    "    - Across all the creators I take into consideration, how often do they upload new videos? On which days in the week?\n",
    "\n",
    "\n",
    "## 1.3. Steps of the project\n",
    "1. Obtain video meta data via Youtube API for the top 10-15 channels in the data science niche (this includes several small steps: create a developer key, request data and transform the responses into a usable data format)\n",
    "2. Prepocess data and engineer additional features for analysis\n",
    "3. Exploratory data analysis\n",
    "4. Conclusions"
   ]
  },
  {
   "cell_type": "markdown",
   "id": "02d6180d",
   "metadata": {},
   "source": [
    "## 1.4. Dataset\n",
    "\n",
    "### Data limitations\n",
    "\n",
    "The dataset is a real-world dataset and suitable for the research. However, the selection of the 5 Youtube channels to include in the research is purely based on my knowledge of the channels in data science field and might not be accurate. My definition is \"popular\" is only based on subscriber count but there are other metrics that could be taken into consideration as well (e.g. views, engagement).There might be smaller channels that might also very interesting to look into, which could be the next step of this project.\n",
    "\n",
    "### Ethics of data source\n",
    "\n",
    "According to [Youtube API's guide](https://developers.google.com/youtube/v3/getting-started), the usage of Youtube API is free of charge given that your application send requests within a quota limit. \"The YouTube Data API uses a quota to ensure that developers use the service as intended and do not create applications that unfairly reduce service quality or limit access for others. \" The default quota allocation for each application is 10,000 units per day, and you could request additional quota by completing a form to YouTube API Services if you reach the quota limit.\n",
    "\n",
    "Since all data requested from Youtube API is public data (which everyone on the Internet can see on Youtube), there is no particular privacy issues as far as I am concerned. In addition, the data is obtained only for research purposes in this case and not for any commercial interests."
   ]
  },
  {
   "cell_type": "code",
   "execution_count": null,
   "id": "e3dc52cb",
   "metadata": {},
   "outputs": [],
   "source": [
    "#Creating API Queue\n",
    "# Documentation for how to access the data\n",
    "#Youtube Data API 3\n"
   ]
  },
  {
   "cell_type": "code",
   "execution_count": 1,
   "id": "d1c8cf63",
   "metadata": {},
   "outputs": [
    {
     "name": "stdout",
     "output_type": "stream",
     "text": [
      "Collecting google-api-python-client\n",
      "  Downloading google_api_python_client-2.47.0-py2.py3-none-any.whl (8.4 MB)\n",
      "Collecting uritemplate<5,>=3.0.1\n",
      "  Downloading uritemplate-4.1.1-py2.py3-none-any.whl (10 kB)\n",
      "Collecting google-auth<3.0.0dev,>=1.16.0\n",
      "  Downloading google_auth-2.6.6-py2.py3-none-any.whl (156 kB)\n",
      "Collecting google-auth-httplib2>=0.1.0\n",
      "  Downloading google_auth_httplib2-0.1.0-py2.py3-none-any.whl (9.3 kB)\n",
      "Collecting httplib2<1dev,>=0.15.0\n",
      "  Downloading httplib2-0.20.4-py3-none-any.whl (96 kB)\n",
      "Collecting google-api-core!=2.0.*,!=2.1.*,!=2.2.*,!=2.3.0,<3.0.0dev,>=1.31.5\n",
      "  Downloading google_api_core-2.7.3-py3-none-any.whl (114 kB)\n",
      "Requirement already satisfied: protobuf>=3.12.0 in c:\\users\\hp\\anaconda3\\lib\\site-packages (from google-api-core!=2.0.*,!=2.1.*,!=2.2.*,!=2.3.0,<3.0.0dev,>=1.31.5->google-api-python-client) (3.20.1)\n",
      "Requirement already satisfied: requests<3.0.0dev,>=2.18.0 in c:\\users\\hp\\anaconda3\\lib\\site-packages (from google-api-core!=2.0.*,!=2.1.*,!=2.2.*,!=2.3.0,<3.0.0dev,>=1.31.5->google-api-python-client) (2.26.0)\n",
      "Collecting googleapis-common-protos<2.0dev,>=1.52.0\n",
      "  Downloading googleapis_common_protos-1.56.0-py2.py3-none-any.whl (241 kB)\n",
      "Requirement already satisfied: six>=1.9.0 in c:\\users\\hp\\anaconda3\\lib\\site-packages (from google-auth<3.0.0dev,>=1.16.0->google-api-python-client) (1.16.0)\n",
      "Collecting rsa<5,>=3.1.4\n",
      "  Downloading rsa-4.8-py3-none-any.whl (39 kB)\n",
      "Collecting pyasn1-modules>=0.2.1\n",
      "  Downloading pyasn1_modules-0.2.8-py2.py3-none-any.whl (155 kB)\n",
      "Collecting cachetools<6.0,>=2.0.0\n",
      "  Downloading cachetools-5.0.0-py3-none-any.whl (9.1 kB)\n",
      "Requirement already satisfied: pyparsing!=3.0.0,!=3.0.1,!=3.0.2,!=3.0.3,<4,>=2.4.2 in c:\\users\\hp\\anaconda3\\lib\\site-packages (from httplib2<1dev,>=0.15.0->google-api-python-client) (3.0.4)\n",
      "Collecting pyasn1<0.5.0,>=0.4.6\n",
      "  Downloading pyasn1-0.4.8-py2.py3-none-any.whl (77 kB)\n",
      "Requirement already satisfied: charset-normalizer~=2.0.0 in c:\\users\\hp\\anaconda3\\lib\\site-packages (from requests<3.0.0dev,>=2.18.0->google-api-core!=2.0.*,!=2.1.*,!=2.2.*,!=2.3.0,<3.0.0dev,>=1.31.5->google-api-python-client) (2.0.4)\n",
      "Requirement already satisfied: urllib3<1.27,>=1.21.1 in c:\\users\\hp\\anaconda3\\lib\\site-packages (from requests<3.0.0dev,>=2.18.0->google-api-core!=2.0.*,!=2.1.*,!=2.2.*,!=2.3.0,<3.0.0dev,>=1.31.5->google-api-python-client) (1.26.7)\n",
      "Requirement already satisfied: certifi>=2017.4.17 in c:\\users\\hp\\anaconda3\\lib\\site-packages (from requests<3.0.0dev,>=2.18.0->google-api-core!=2.0.*,!=2.1.*,!=2.2.*,!=2.3.0,<3.0.0dev,>=1.31.5->google-api-python-client) (2021.10.8)\n",
      "Requirement already satisfied: idna<4,>=2.5 in c:\\users\\hp\\anaconda3\\lib\\site-packages (from requests<3.0.0dev,>=2.18.0->google-api-core!=2.0.*,!=2.1.*,!=2.2.*,!=2.3.0,<3.0.0dev,>=1.31.5->google-api-python-client) (3.2)\n",
      "Installing collected packages: pyasn1, rsa, pyasn1-modules, cachetools, httplib2, googleapis-common-protos, google-auth, uritemplate, google-auth-httplib2, google-api-core, google-api-python-client\n",
      "Successfully installed cachetools-5.0.0 google-api-core-2.7.3 google-api-python-client-2.47.0 google-auth-2.6.6 google-auth-httplib2-0.1.0 googleapis-common-protos-1.56.0 httplib2-0.20.4 pyasn1-0.4.8 pyasn1-modules-0.2.8 rsa-4.8 uritemplate-4.1.1\n"
     ]
    }
   ],
   "source": [
    "!pip install google-api-python-client "
   ]
  },
  {
   "cell_type": "code",
   "execution_count": 41,
   "id": "fdcbd3c0",
   "metadata": {},
   "outputs": [],
   "source": [
    "# Google API\n",
    "from googleapiclient.discovery import build\n",
    "# Data manipulation & visualization libraries\n",
    "import pandas as pd\n",
    "import seaborn as sns\n",
    "import matplotlib.pyplot as plt\n",
    "%matplotlib inline\n",
    "from dateutil import parser\n",
    "import isodate"
   ]
  },
  {
   "cell_type": "markdown",
   "id": "0c189efa",
   "metadata": {},
   "source": [
    "# 2. Data creation with Youtube API"
   ]
  },
  {
   "cell_type": "markdown",
   "id": "9ddfb613",
   "metadata": {},
   "source": [
    "I first created a project on Google Developers Console, then requested an authorization credential (API key). Afterwards, I enabled Youtube API for my application, so that I can send API requests to Youtube API services. Then, I went on Youtube and checked the channel ID of each of the channels that I would like to include in my research scope (using their URLs). Then I created the functions for getting the channel statistics via the API."
   ]
  },
  {
   "cell_type": "code",
   "execution_count": 2,
   "id": "98156218",
   "metadata": {},
   "outputs": [],
   "source": [
    "api_key=''\n",
    "channel_ids=['UCNU_lfiiWBdtULKOw6X0Dig',#Krish Naik\n",
    "            'UCLLw7jmFsvfIVaUFsLs8mlQ',#Luke Barousse\n",
    "            'UCiT9RITQ9PW6BhXK0y2jaeg',#Ken Jee\n",
    "            'UC7cs8q-gJRlGwj4A8OmCmXg',#Alex the analyst\n",
    "            'UCh9nVJoWXmFb7sLApWGcLPQ' # Code Basics\n",
    "           ]\n",
    "#Create a Youtube service\n",
    "youtube=build('youtube','v3',developerKey=api_key)"
   ]
  },
  {
   "cell_type": "markdown",
   "id": "a703a281",
   "metadata": {},
   "source": [
    "## Get Channel Statistics"
   ]
  },
  {
   "cell_type": "markdown",
   "id": "7a9dd62a",
   "metadata": {},
   "source": [
    "Using the `get_channel_stats` function defined below, now we are going to obtain the channel statistics for the 5 channels in scope."
   ]
  },
  {
   "cell_type": "code",
   "execution_count": 3,
   "id": "405ca1ed",
   "metadata": {},
   "outputs": [],
   "source": [
    "def get_channel_stats(youtube,channel_id):\n",
    "    all_data=[]\n",
    "    request=youtube.channels().list(\n",
    "    part='snippet,contentDetails,statistics',\n",
    "    id=','.join(channel_ids))\n",
    "    response=request.execute()\n",
    "    for i in range(len(response['items'])):\n",
    "        data=dict(Channel_name=response['items'][i]['snippet']['title'],\n",
    "             Subscribers=response['items'][i]['statistics']['subscriberCount'],\n",
    "              Views=response['items'][i]['statistics']['viewCount'],\n",
    "              Total_videos=response['items'][i]['statistics']['videoCount'],\n",
    "              Playlist_id=response['items'][i]['contentDetails']['relatedPlaylists']['uploads'])\n",
    "        all_data.append(data)\n",
    "                 \n",
    "    \n",
    "    return all_data"
   ]
  },
  {
   "cell_type": "code",
   "execution_count": 4,
   "id": "78ec073f",
   "metadata": {},
   "outputs": [],
   "source": [
    "channel_statistics=get_channel_stats(youtube,channel_ids)"
   ]
  },
  {
   "cell_type": "code",
   "execution_count": 5,
   "id": "f240c1d1",
   "metadata": {},
   "outputs": [],
   "source": [
    "channel_data=pd.DataFrame(channel_statistics)"
   ]
  },
  {
   "cell_type": "markdown",
   "id": "c6befaaa",
   "metadata": {},
   "source": [
    "Now I can print out the data and take a look at the channel statistics overview."
   ]
  },
  {
   "cell_type": "code",
   "execution_count": 6,
   "id": "61d674fa",
   "metadata": {},
   "outputs": [
    {
     "data": {
      "text/html": [
       "<div>\n",
       "<style scoped>\n",
       "    .dataframe tbody tr th:only-of-type {\n",
       "        vertical-align: middle;\n",
       "    }\n",
       "\n",
       "    .dataframe tbody tr th {\n",
       "        vertical-align: top;\n",
       "    }\n",
       "\n",
       "    .dataframe thead th {\n",
       "        text-align: right;\n",
       "    }\n",
       "</style>\n",
       "<table border=\"1\" class=\"dataframe\">\n",
       "  <thead>\n",
       "    <tr style=\"text-align: right;\">\n",
       "      <th></th>\n",
       "      <th>Channel_name</th>\n",
       "      <th>Subscribers</th>\n",
       "      <th>Views</th>\n",
       "      <th>Total_videos</th>\n",
       "      <th>Playlist_id</th>\n",
       "    </tr>\n",
       "  </thead>\n",
       "  <tbody>\n",
       "    <tr>\n",
       "      <th>0</th>\n",
       "      <td>codebasics</td>\n",
       "      <td>590000</td>\n",
       "      <td>37967883</td>\n",
       "      <td>509</td>\n",
       "      <td>UUh9nVJoWXmFb7sLApWGcLPQ</td>\n",
       "    </tr>\n",
       "    <tr>\n",
       "      <th>1</th>\n",
       "      <td>Ken Jee</td>\n",
       "      <td>203000</td>\n",
       "      <td>6351938</td>\n",
       "      <td>232</td>\n",
       "      <td>UUiT9RITQ9PW6BhXK0y2jaeg</td>\n",
       "    </tr>\n",
       "    <tr>\n",
       "      <th>2</th>\n",
       "      <td>Luke Barousse</td>\n",
       "      <td>174000</td>\n",
       "      <td>8548805</td>\n",
       "      <td>76</td>\n",
       "      <td>UULLw7jmFsvfIVaUFsLs8mlQ</td>\n",
       "    </tr>\n",
       "    <tr>\n",
       "      <th>3</th>\n",
       "      <td>Alex The Analyst</td>\n",
       "      <td>225000</td>\n",
       "      <td>8871014</td>\n",
       "      <td>145</td>\n",
       "      <td>UU7cs8q-gJRlGwj4A8OmCmXg</td>\n",
       "    </tr>\n",
       "    <tr>\n",
       "      <th>4</th>\n",
       "      <td>Krish Naik</td>\n",
       "      <td>581000</td>\n",
       "      <td>54244445</td>\n",
       "      <td>1402</td>\n",
       "      <td>UUNU_lfiiWBdtULKOw6X0Dig</td>\n",
       "    </tr>\n",
       "  </tbody>\n",
       "</table>\n",
       "</div>"
      ],
      "text/plain": [
       "       Channel_name Subscribers     Views Total_videos  \\\n",
       "0        codebasics      590000  37967883          509   \n",
       "1           Ken Jee      203000   6351938          232   \n",
       "2     Luke Barousse      174000   8548805           76   \n",
       "3  Alex The Analyst      225000   8871014          145   \n",
       "4        Krish Naik      581000  54244445         1402   \n",
       "\n",
       "                Playlist_id  \n",
       "0  UUh9nVJoWXmFb7sLApWGcLPQ  \n",
       "1  UUiT9RITQ9PW6BhXK0y2jaeg  \n",
       "2  UULLw7jmFsvfIVaUFsLs8mlQ  \n",
       "3  UU7cs8q-gJRlGwj4A8OmCmXg  \n",
       "4  UUNU_lfiiWBdtULKOw6X0Dig  "
      ]
     },
     "execution_count": 6,
     "metadata": {},
     "output_type": "execute_result"
    }
   ],
   "source": [
    "channel_data"
   ]
  },
  {
   "cell_type": "markdown",
   "id": "8736f179",
   "metadata": {},
   "source": [
    "To check the data types of channel data"
   ]
  },
  {
   "cell_type": "code",
   "execution_count": 7,
   "id": "f0779990",
   "metadata": {},
   "outputs": [
    {
     "data": {
      "text/plain": [
       "Channel_name    object\n",
       "Subscribers     object\n",
       "Views           object\n",
       "Total_videos    object\n",
       "Playlist_id     object\n",
       "dtype: object"
      ]
     },
     "execution_count": 7,
     "metadata": {},
     "output_type": "execute_result"
    }
   ],
   "source": [
    "channel_data.dtypes"
   ]
  },
  {
   "cell_type": "markdown",
   "id": "0adffed8",
   "metadata": {},
   "source": [
    "To convert the subscribers, views, Total_videos to numeric type"
   ]
  },
  {
   "cell_type": "code",
   "execution_count": 8,
   "id": "68792fa2",
   "metadata": {},
   "outputs": [
    {
     "data": {
      "text/plain": [
       "Channel_name    object\n",
       "Subscribers      int64\n",
       "Views            int64\n",
       "Total_videos     int64\n",
       "Playlist_id     object\n",
       "dtype: object"
      ]
     },
     "execution_count": 8,
     "metadata": {},
     "output_type": "execute_result"
    }
   ],
   "source": [
    "channel_data['Subscribers']=pd.to_numeric(channel_data['Subscribers'])\n",
    "channel_data['Views']=pd.to_numeric(channel_data['Views'])\n",
    "channel_data['Total_videos']=pd.to_numeric(channel_data['Total_videos'])\n",
    "channel_data.dtypes"
   ]
  },
  {
   "cell_type": "markdown",
   "id": "72b0f160",
   "metadata": {},
   "source": [
    "Let's take a look at the number of subscribers per channel to have a view of how popular the channels are when compared with one another."
   ]
  },
  {
   "cell_type": "code",
   "execution_count": 9,
   "id": "c8c4caf7",
   "metadata": {},
   "outputs": [
    {
     "data": {
      "image/png": "[encoded data removed]",
      "text/plain": [
       "<Figure size 720x576 with 1 Axes>"
      ]
     },
     "metadata": {},
     "output_type": "display_data"
    }
   ],
   "source": [
    "sns.set(rc={'figure.figsize':(10,8)})\n",
    "ax=sns.barplot(x='Channel_name',y='Subscribers',data=channel_data)"
   ]
  },
  {
   "cell_type": "markdown",
   "id": "ace768d2",
   "metadata": {},
   "source": [
    "Krish Naik and Codebasics remain the two most popular channels considering both subscribers and views. \n",
    "Interestingly, some channels have more subscribers but less views and vice versa. \n",
    "For example, Ken Jee channel has significantly more subscribers than Luke Barousse channel, but slightly less views in total."
   ]
  },
  {
   "cell_type": "code",
   "execution_count": 10,
   "id": "ed0b79ba",
   "metadata": {},
   "outputs": [
    {
     "data": {
      "image/png": "[encoded data removed]",
      "text/plain": [
       "<Figure size 720x576 with 1 Axes>"
      ]
     },
     "metadata": {},
     "output_type": "display_data"
    }
   ],
   "source": [
    "ax=sns.barplot(x='Channel_name',y='Views',data=channel_data)"
   ]
  },
  {
   "cell_type": "markdown",
   "id": "b21694d0",
   "metadata": {},
   "source": [
    "To study the total number of videos uploaded by each channel and from the graph observations Krish naik channel has uploaded the highest number of videos"
   ]
  },
  {
   "cell_type": "code",
   "execution_count": 11,
   "id": "27279990",
   "metadata": {},
   "outputs": [
    {
     "data": {
      "image/png": "[encoded data removed]",
      "text/plain": [
       "<Figure size 720x576 with 1 Axes>"
      ]
     },
     "metadata": {},
     "output_type": "display_data"
    }
   ],
   "source": [
    "ax=sns.barplot(x='Channel_name',y='Total_videos',data=channel_data)"
   ]
  },
  {
   "cell_type": "markdown",
   "id": "6db8a9d6",
   "metadata": {},
   "source": [
    "# Scrape Video Details"
   ]
  },
  {
   "cell_type": "markdown",
   "id": "b1411c44",
   "metadata": {},
   "source": [
    "## Function to get Video ids"
   ]
  },
  {
   "cell_type": "code",
   "execution_count": 12,
   "id": "de53439e",
   "metadata": {},
   "outputs": [],
   "source": [
    "def get_video_ids(youtube,Playlist_id):\n",
    "    \n",
    "    request=youtube.playlistItems().list(\n",
    "              part='contentDetails',\n",
    "               playlistId=Playlist_id,\n",
    "               maxResults=50)\n",
    "    response=request.execute()\n",
    "    \n",
    "    video_ids=[]\n",
    "    \n",
    "    for i in range(len(response['items'])):\n",
    "        video_ids.append(response['items'][i]['contentDetails']['videoId'])\n",
    "        \n",
    "    next_page_token=response.get('nextPageToken')\n",
    "    more_pages=True\n",
    "    \n",
    "    while more_pages:\n",
    "        if next_page_token is None:\n",
    "            more_pages=False\n",
    "        else:\n",
    "            request=youtube.playlistItems().list(\n",
    "              part='contentDetails',\n",
    "               playlistId=Playlist_id,\n",
    "               maxResults=50,\n",
    "               pageToken=next_page_token)\n",
    "            response=request.execute()\n",
    "            \n",
    "            for i in range(len(response['items'])):\n",
    "                video_ids.append(response['items'][i]['contentDetails']['videoId'])\n",
    "            next_page_token=response.get('nextPageToken')\n",
    "    \n",
    "    return video_ids"
   ]
  },
  {
   "cell_type": "markdown",
   "id": "ef5d1fa0",
   "metadata": {},
   "source": [
    "# Function to get video Details"
   ]
  },
  {
   "cell_type": "code",
   "execution_count": 13,
   "id": "403656a3",
   "metadata": {},
   "outputs": [],
   "source": [
    "def get_video_details(youtube, video_ids):\n",
    "    \"\"\"\n",
    "    Get video statistics of all videos with given IDs\n",
    "    Params:\n",
    "    \n",
    "    youtube: the build object from googleapiclient.discovery\n",
    "    video_ids: list of video IDs\n",
    "    \n",
    "    Returns:\n",
    "    Dataframe with statistics of videos, i.e.:\n",
    "        'channelTitle', 'title', 'description', 'tags', 'publishedAt'\n",
    "        'viewCount', 'likeCount', 'favoriteCount', 'commentCount'\n",
    "        'duration', 'definition', 'caption'\n",
    "    \"\"\"\n",
    "        \n",
    "    all_video_info = []\n",
    "    \n",
    "    for i in range(0, len(video_ids), 50):\n",
    "        request = youtube.videos().list(\n",
    "            part=\"snippet,contentDetails,statistics\",\n",
    "            id=','.join(video_ids[i:i+50])\n",
    "        )\n",
    "        response = request.execute() \n",
    "\n",
    "        for video in response['items']:\n",
    "            stats_to_keep = {'snippet': ['channelTitle', 'title', 'description', 'tags', 'publishedAt'],\n",
    "                             'statistics': ['viewCount', 'likeCount', 'favouriteCount', 'commentCount'],\n",
    "                             'contentDetails': ['duration', 'definition', 'caption']\n",
    "                            }\n",
    "            video_info = {}\n",
    "            video_info['video_id'] = video['id']\n",
    "\n",
    "            for k in stats_to_keep.keys():\n",
    "                for v in stats_to_keep[k]:\n",
    "                    try:\n",
    "                        video_info[v] = video[k][v]\n",
    "                    except:\n",
    "                        video_info[v] = None\n",
    "\n",
    "            all_video_info.append(video_info)\n",
    "            \n",
    "    return all_video_info"
   ]
  },
  {
   "cell_type": "code",
   "execution_count": 14,
   "id": "0b4cdb36",
   "metadata": {},
   "outputs": [
    {
     "name": "stdout",
     "output_type": "stream",
     "text": [
      "Getting video information from channel: codebasics\n",
      "Getting video information from channel: Ken Jee\n",
      "Getting video information from channel: Luke Barousse\n",
      "Getting video information from channel: Alex The Analyst\n",
      "Getting video information from channel: Krish Naik\n"
     ]
    }
   ],
   "source": [
    "# Create a dataframe with video statistics and comments from all channels\n",
    "\n",
    "video_df = pd.DataFrame()\n",
    "\n",
    "\n",
    "for c in channel_data['Channel_name'].unique():\n",
    "    print(\"Getting video information from channel: \" + c)\n",
    "    playlist_id = channel_data.loc[channel_data['Channel_name']== c, 'Playlist_id'].iloc[0]\n",
    "    video_ids = get_video_ids(youtube, playlist_id)\n",
    "    \n",
    "    # get video data\n",
    "    video_data = get_video_details(youtube, video_ids)\n",
    "    \n",
    "\n",
    "    # append video data together and comment data toghether\n",
    "    video_df = video_df.append(video_data, ignore_index=True)\n",
    "\n",
    "    "
   ]
  },
  {
   "cell_type": "markdown",
   "id": "73853a18",
   "metadata": {},
   "source": [
    "Now I can print out the data and take a look at the channel video details overview."
   ]
  },
  {
   "cell_type": "code",
   "execution_count": 15,
   "id": "88920f38",
   "metadata": {},
   "outputs": [
    {
     "data": {
      "text/html": [
       "<div>\n",
       "<style scoped>\n",
       "    .dataframe tbody tr th:only-of-type {\n",
       "        vertical-align: middle;\n",
       "    }\n",
       "\n",
       "    .dataframe tbody tr th {\n",
       "        vertical-align: top;\n",
       "    }\n",
       "\n",
       "    .dataframe thead th {\n",
       "        text-align: right;\n",
       "    }\n",
       "</style>\n",
       "<table border=\"1\" class=\"dataframe\">\n",
       "  <thead>\n",
       "    <tr style=\"text-align: right;\">\n",
       "      <th></th>\n",
       "      <th>video_id</th>\n",
       "      <th>channelTitle</th>\n",
       "      <th>title</th>\n",
       "      <th>description</th>\n",
       "      <th>tags</th>\n",
       "      <th>publishedAt</th>\n",
       "      <th>viewCount</th>\n",
       "      <th>likeCount</th>\n",
       "      <th>favouriteCount</th>\n",
       "      <th>commentCount</th>\n",
       "      <th>duration</th>\n",
       "      <th>definition</th>\n",
       "      <th>caption</th>\n",
       "    </tr>\n",
       "  </thead>\n",
       "  <tbody>\n",
       "    <tr>\n",
       "      <th>0</th>\n",
       "      <td>P3RoteuI87Q</td>\n",
       "      <td>codebasics</td>\n",
       "      <td>Scholarship For Codebasics Data Analytics Course</td>\n",
       "      <td>There is a scholarship available for students ...</td>\n",
       "      <td>[yt:cc=on, power bi course, power bi tutorials...</td>\n",
       "      <td>2022-05-28T14:00:11Z</td>\n",
       "      <td>9311</td>\n",
       "      <td>404</td>\n",
       "      <td>None</td>\n",
       "      <td>110</td>\n",
       "      <td>PT7M28S</td>\n",
       "      <td>hd</td>\n",
       "      <td>false</td>\n",
       "    </tr>\n",
       "    <tr>\n",
       "      <th>1</th>\n",
       "      <td>cElCnuA40os</td>\n",
       "      <td>codebasics</td>\n",
       "      <td>Power BI Tutorials For Beginners: The Course i...</td>\n",
       "      <td>My video course - Get Job Ready: Power BI Data...</td>\n",
       "      <td>[yt:cc=on, power bi tutorials, power bi for be...</td>\n",
       "      <td>2022-05-26T13:30:10Z</td>\n",
       "      <td>9994</td>\n",
       "      <td>378</td>\n",
       "      <td>None</td>\n",
       "      <td>116</td>\n",
       "      <td>PT12M50S</td>\n",
       "      <td>hd</td>\n",
       "      <td>false</td>\n",
       "    </tr>\n",
       "    <tr>\n",
       "      <th>2</th>\n",
       "      <td>GUZwFRs9f5c</td>\n",
       "      <td>codebasics</td>\n",
       "      <td>Must have skill for exploratory data analysis.</td>\n",
       "      <td>Very easy to understand Pandas tutorials: http...</td>\n",
       "      <td>[pandas, python pandas, python pandas library,...</td>\n",
       "      <td>2022-05-21T15:00:14Z</td>\n",
       "      <td>11524</td>\n",
       "      <td>467</td>\n",
       "      <td>None</td>\n",
       "      <td>23</td>\n",
       "      <td>PT50S</td>\n",
       "      <td>hd</td>\n",
       "      <td>false</td>\n",
       "    </tr>\n",
       "    <tr>\n",
       "      <th>3</th>\n",
       "      <td>poHVmxGpvW8</td>\n",
       "      <td>codebasics</td>\n",
       "      <td>Data science skills 10 years from now!</td>\n",
       "      <td>How can you find the best career for yourself?...</td>\n",
       "      <td>[data science full course, data scientist, mac...</td>\n",
       "      <td>2022-05-16T15:20:18Z</td>\n",
       "      <td>17423</td>\n",
       "      <td>821</td>\n",
       "      <td>None</td>\n",
       "      <td>36</td>\n",
       "      <td>PT53S</td>\n",
       "      <td>hd</td>\n",
       "      <td>false</td>\n",
       "    </tr>\n",
       "    <tr>\n",
       "      <th>4</th>\n",
       "      <td>gdHWoQWZGkk</td>\n",
       "      <td>codebasics</td>\n",
       "      <td>Part Of Speech POS Tagging: NLP Tutorial For B...</td>\n",
       "      <td>Part of speech or POS tagging is used to tag p...</td>\n",
       "      <td>[yt:cc=on, pos tagging, parts of speech taggin...</td>\n",
       "      <td>2022-05-14T15:00:12Z</td>\n",
       "      <td>4445</td>\n",
       "      <td>131</td>\n",
       "      <td>None</td>\n",
       "      <td>18</td>\n",
       "      <td>PT25M49S</td>\n",
       "      <td>hd</td>\n",
       "      <td>false</td>\n",
       "    </tr>\n",
       "    <tr>\n",
       "      <th>...</th>\n",
       "      <td>...</td>\n",
       "      <td>...</td>\n",
       "      <td>...</td>\n",
       "      <td>...</td>\n",
       "      <td>...</td>\n",
       "      <td>...</td>\n",
       "      <td>...</td>\n",
       "      <td>...</td>\n",
       "      <td>...</td>\n",
       "      <td>...</td>\n",
       "      <td>...</td>\n",
       "      <td>...</td>\n",
       "      <td>...</td>\n",
       "    </tr>\n",
       "    <tr>\n",
       "      <th>2360</th>\n",
       "      <td>MTiaCUh1420</td>\n",
       "      <td>Krish Naik</td>\n",
       "      <td>Important libraries used in python Data Scienc...</td>\n",
       "      <td>Important libraries used in python Data Scienc...</td>\n",
       "      <td>[Machine Learning, Artificial Intelligence, Da...</td>\n",
       "      <td>2017-11-26T07:48:27Z</td>\n",
       "      <td>17413</td>\n",
       "      <td>150</td>\n",
       "      <td>None</td>\n",
       "      <td>15</td>\n",
       "      <td>PT8M31S</td>\n",
       "      <td>sd</td>\n",
       "      <td>false</td>\n",
       "    </tr>\n",
       "    <tr>\n",
       "      <th>2361</th>\n",
       "      <td>DeT8mji0Jos</td>\n",
       "      <td>Krish Naik</td>\n",
       "      <td>Anaconda installation with Packages- Machine L...</td>\n",
       "      <td>Detailed explanation of anaconda python instal...</td>\n",
       "      <td>[Machine Learning, Artificial Intelligence, Da...</td>\n",
       "      <td>2017-11-26T06:16:34Z</td>\n",
       "      <td>71030</td>\n",
       "      <td>319</td>\n",
       "      <td>None</td>\n",
       "      <td>37</td>\n",
       "      <td>PT5M18S</td>\n",
       "      <td>sd</td>\n",
       "      <td>false</td>\n",
       "    </tr>\n",
       "    <tr>\n",
       "      <th>2362</th>\n",
       "      <td>HrHJUc26YxI</td>\n",
       "      <td>Krish Naik</td>\n",
       "      <td>What is Supervised Machine Learning- Machine L...</td>\n",
       "      <td>Detailed Explanation of Supervised Machine Lea...</td>\n",
       "      <td>[Machine Learning basics, Artificial Intellige...</td>\n",
       "      <td>2017-11-26T04:50:08Z</td>\n",
       "      <td>29147</td>\n",
       "      <td>337</td>\n",
       "      <td>None</td>\n",
       "      <td>17</td>\n",
       "      <td>PT11M42S</td>\n",
       "      <td>sd</td>\n",
       "      <td>false</td>\n",
       "    </tr>\n",
       "    <tr>\n",
       "      <th>2363</th>\n",
       "      <td>EqRsD3gqeCo</td>\n",
       "      <td>Krish Naik</td>\n",
       "      <td>What is Machine Learning in Data Science- Mach...</td>\n",
       "      <td>Detailed explanation of Machine Learning ,type...</td>\n",
       "      <td>[Machine learning basics and types, Data Scien...</td>\n",
       "      <td>2017-11-25T12:27:20Z</td>\n",
       "      <td>112372</td>\n",
       "      <td>683</td>\n",
       "      <td>None</td>\n",
       "      <td>43</td>\n",
       "      <td>PT10M1S</td>\n",
       "      <td>hd</td>\n",
       "      <td>false</td>\n",
       "    </tr>\n",
       "    <tr>\n",
       "      <th>2364</th>\n",
       "      <td>qMLxWX49i8I</td>\n",
       "      <td>Krish Naik</td>\n",
       "      <td>Maeri unplugged by Krish and band</td>\n",
       "      <td>Maeri unplugged by krish and band</td>\n",
       "      <td>[Maeri, unplugged, version]</td>\n",
       "      <td>2014-06-01T07:20:59Z</td>\n",
       "      <td>4650</td>\n",
       "      <td>121</td>\n",
       "      <td>None</td>\n",
       "      <td>7</td>\n",
       "      <td>PT2M31S</td>\n",
       "      <td>sd</td>\n",
       "      <td>false</td>\n",
       "    </tr>\n",
       "  </tbody>\n",
       "</table>\n",
       "<p>2365 rows × 13 columns</p>\n",
       "</div>"
      ],
      "text/plain": [
       "         video_id channelTitle  \\\n",
       "0     P3RoteuI87Q   codebasics   \n",
       "1     cElCnuA40os   codebasics   \n",
       "2     GUZwFRs9f5c   codebasics   \n",
       "3     poHVmxGpvW8   codebasics   \n",
       "4     gdHWoQWZGkk   codebasics   \n",
       "...           ...          ...   \n",
       "2360  MTiaCUh1420   Krish Naik   \n",
       "2361  DeT8mji0Jos   Krish Naik   \n",
       "2362  HrHJUc26YxI   Krish Naik   \n",
       "2363  EqRsD3gqeCo   Krish Naik   \n",
       "2364  qMLxWX49i8I   Krish Naik   \n",
       "\n",
       "                                                  title  \\\n",
       "0      Scholarship For Codebasics Data Analytics Course   \n",
       "1     Power BI Tutorials For Beginners: The Course i...   \n",
       "2        Must have skill for exploratory data analysis.   \n",
       "3                Data science skills 10 years from now!   \n",
       "4     Part Of Speech POS Tagging: NLP Tutorial For B...   \n",
       "...                                                 ...   \n",
       "2360  Important libraries used in python Data Scienc...   \n",
       "2361  Anaconda installation with Packages- Machine L...   \n",
       "2362  What is Supervised Machine Learning- Machine L...   \n",
       "2363  What is Machine Learning in Data Science- Mach...   \n",
       "2364                  Maeri unplugged by Krish and band   \n",
       "\n",
       "                                            description  \\\n",
       "0     There is a scholarship available for students ...   \n",
       "1     My video course - Get Job Ready: Power BI Data...   \n",
       "2     Very easy to understand Pandas tutorials: http...   \n",
       "3     How can you find the best career for yourself?...   \n",
       "4     Part of speech or POS tagging is used to tag p...   \n",
       "...                                                 ...   \n",
       "2360  Important libraries used in python Data Scienc...   \n",
       "2361  Detailed explanation of anaconda python instal...   \n",
       "2362  Detailed Explanation of Supervised Machine Lea...   \n",
       "2363  Detailed explanation of Machine Learning ,type...   \n",
       "2364                  Maeri unplugged by krish and band   \n",
       "\n",
       "                                                   tags           publishedAt  \\\n",
       "0     [yt:cc=on, power bi course, power bi tutorials...  2022-05-28T14:00:11Z   \n",
       "1     [yt:cc=on, power bi tutorials, power bi for be...  2022-05-26T13:30:10Z   \n",
       "2     [pandas, python pandas, python pandas library,...  2022-05-21T15:00:14Z   \n",
       "3     [data science full course, data scientist, mac...  2022-05-16T15:20:18Z   \n",
       "4     [yt:cc=on, pos tagging, parts of speech taggin...  2022-05-14T15:00:12Z   \n",
       "...                                                 ...                   ...   \n",
       "2360  [Machine Learning, Artificial Intelligence, Da...  2017-11-26T07:48:27Z   \n",
       "2361  [Machine Learning, Artificial Intelligence, Da...  2017-11-26T06:16:34Z   \n",
       "2362  [Machine Learning basics, Artificial Intellige...  2017-11-26T04:50:08Z   \n",
       "2363  [Machine learning basics and types, Data Scien...  2017-11-25T12:27:20Z   \n",
       "2364                        [Maeri, unplugged, version]  2014-06-01T07:20:59Z   \n",
       "\n",
       "     viewCount likeCount favouriteCount commentCount  duration definition  \\\n",
       "0         9311       404           None          110   PT7M28S         hd   \n",
       "1         9994       378           None          116  PT12M50S         hd   \n",
       "2        11524       467           None           23     PT50S         hd   \n",
       "3        17423       821           None           36     PT53S         hd   \n",
       "4         4445       131           None           18  PT25M49S         hd   \n",
       "...        ...       ...            ...          ...       ...        ...   \n",
       "2360     17413       150           None           15   PT8M31S         sd   \n",
       "2361     71030       319           None           37   PT5M18S         sd   \n",
       "2362     29147       337           None           17  PT11M42S         sd   \n",
       "2363    112372       683           None           43   PT10M1S         hd   \n",
       "2364      4650       121           None            7   PT2M31S         sd   \n",
       "\n",
       "     caption  \n",
       "0      false  \n",
       "1      false  \n",
       "2      false  \n",
       "3      false  \n",
       "4      false  \n",
       "...      ...  \n",
       "2360   false  \n",
       "2361   false  \n",
       "2362   false  \n",
       "2363   false  \n",
       "2364   false  \n",
       "\n",
       "[2365 rows x 13 columns]"
      ]
     },
     "execution_count": 15,
     "metadata": {},
     "output_type": "execute_result"
    }
   ],
   "source": [
    "video_df"
   ]
  },
  {
   "cell_type": "code",
   "execution_count": 16,
   "id": "d142a936",
   "metadata": {},
   "outputs": [],
   "source": [
    "# Write video data to CSV file for future references\n",
    "video_df.to_csv('video_data_top5_channels.csv')"
   ]
  },
  {
   "cell_type": "markdown",
   "id": "f28556af",
   "metadata": {},
   "source": [
    "## Preprocessing & Feature engineering\n",
    "\n",
    "To be able to make use of the data for analysis, we need to perform a few pre-processing steps. Firstly, I would like reformat some columns, especially the date and time columns such as \"pushlishedAt\". In addition, I also think it is necessary to enrich the data with some new features that might be useful for understanding the videos' characteristics."
   ]
  },
  {
   "cell_type": "markdown",
   "id": "6b3acc57",
   "metadata": {},
   "source": [
    "### Check for empty values"
   ]
  },
  {
   "cell_type": "code",
   "execution_count": 17,
   "id": "ce341b92",
   "metadata": {},
   "outputs": [
    {
     "data": {
      "text/plain": [
       "video_id          False\n",
       "channelTitle      False\n",
       "title             False\n",
       "description       False\n",
       "tags               True\n",
       "publishedAt       False\n",
       "viewCount         False\n",
       "likeCount         False\n",
       "favouriteCount     True\n",
       "commentCount       True\n",
       "duration          False\n",
       "definition        False\n",
       "caption           False\n",
       "dtype: bool"
      ]
     },
     "execution_count": 17,
     "metadata": {},
     "output_type": "execute_result"
    }
   ],
   "source": [
    "video_df.isnull().any()"
   ]
  },
  {
   "cell_type": "code",
   "execution_count": 18,
   "id": "e931ae6b",
   "metadata": {},
   "outputs": [
    {
     "data": {
      "text/plain": [
       "2019-05-08T04:51:05Z    17\n",
       "2019-05-08T04:51:06Z     9\n",
       "2019-01-19T13:35:07Z     4\n",
       "2019-01-19T13:35:06Z     2\n",
       "2020-12-07T14:00:11Z     2\n",
       "                        ..\n",
       "2020-05-07T13:46:14Z     1\n",
       "2020-05-08T06:34:45Z     1\n",
       "2020-05-08T13:00:03Z     1\n",
       "2020-05-08T17:30:49Z     1\n",
       "2022-05-30T12:19:39Z     1\n",
       "Name: publishedAt, Length: 2336, dtype: int64"
      ]
     },
     "execution_count": 18,
     "metadata": {},
     "output_type": "execute_result"
    }
   ],
   "source": [
    "video_df['publishedAt'].sort_values().value_counts()"
   ]
  },
  {
   "cell_type": "markdown",
   "id": "be3973ba",
   "metadata": {},
   "source": [
    "Next, we need to check if the data type of the columns are correct. I have checked the data types and indeed some count columns such as view count and comment count are currently not in correct data type. In this step, we convert these count columns into integer."
   ]
  },
  {
   "cell_type": "code",
   "execution_count": 20,
   "id": "8fd54186",
   "metadata": {},
   "outputs": [],
   "source": [
    "cols = ['viewCount', 'likeCount', 'favouriteCount', 'commentCount']\n",
    "video_df[cols] = video_df[cols].apply(pd.to_numeric, errors='coerce', axis=1)"
   ]
  },
  {
   "cell_type": "code",
   "execution_count": 21,
   "id": "af0ff572",
   "metadata": {},
   "outputs": [
    {
     "data": {
      "text/plain": [
       "video_id           object\n",
       "channelTitle       object\n",
       "title              object\n",
       "description        object\n",
       "tags               object\n",
       "publishedAt        object\n",
       "viewCount         float64\n",
       "likeCount         float64\n",
       "favouriteCount    float64\n",
       "commentCount      float64\n",
       "duration           object\n",
       "definition         object\n",
       "caption            object\n",
       "dtype: object"
      ]
     },
     "execution_count": 21,
     "metadata": {},
     "output_type": "execute_result"
    }
   ],
   "source": [
    "video_df.dtypes"
   ]
  },
  {
   "cell_type": "markdown",
   "id": "b25bfc3f",
   "metadata": {},
   "source": [
    "# Enriching data"
   ]
  },
  {
   "cell_type": "markdown",
   "id": "fc8b1f26",
   "metadata": {},
   "source": [
    "I want to enrich the data for further analyses, for example:\n",
    "\n",
    "* create published date column with another column showing the day in the week the video was published, which will be useful for later analysis.\n",
    "\n",
    "* convert video duration to seconds instead of the current default string format\n",
    "\n",
    "* calculate number of tags for each video\n",
    "\n",
    "* calculate comments and likes per 1000 view ratio\n",
    "\n",
    "* calculate title character length"
   ]
  },
  {
   "cell_type": "code",
   "execution_count": 34,
   "id": "7602d58d",
   "metadata": {},
   "outputs": [],
   "source": [
    "# Create publish day (in the week) column\n",
    "video_df['publishedAt'] =  video_df['publishedAt'].apply(lambda x: parser.parse(x)) \n",
    "video_df['pushblishDayName'] = video_df['publishedAt'].apply(lambda x: x.strftime(\"%A\")) "
   ]
  },
  {
   "cell_type": "code",
   "execution_count": 35,
   "id": "5db8a20a",
   "metadata": {},
   "outputs": [],
   "source": [
    "# convert duration to seconds\n",
    "video_df['durationSecs'] = video_df['duration'].apply(lambda x: isodate.parse_duration(x))\n",
    "video_df['durationSecs'] = video_df['durationSecs'].astype('timedelta64[s]')"
   ]
  },
  {
   "cell_type": "code",
   "execution_count": 36,
   "id": "2bd2f4fe",
   "metadata": {},
   "outputs": [],
   "source": [
    "# Add number of tags\n",
    "video_df['tagsCount'] = video_df['tags'].apply(lambda x: 0 if x is None else len(x))"
   ]
  },
  {
   "cell_type": "code",
   "execution_count": 37,
   "id": "39e2227f",
   "metadata": {},
   "outputs": [],
   "source": [
    "# Comments and likes per 1000 view ratio\n",
    "video_df['likeRatio'] = video_df['likeCount']/ video_df['viewCount'] * 1000\n",
    "video_df['commentRatio'] = video_df['commentCount']/ video_df['viewCount'] * 1000"
   ]
  },
  {
   "cell_type": "code",
   "execution_count": 38,
   "id": "0bae67c1",
   "metadata": {},
   "outputs": [],
   "source": [
    "# Title character length\n",
    "video_df['titleLength'] = video_df['title'].apply(lambda x: len(x))"
   ]
  },
  {
   "cell_type": "markdown",
   "id": "870b325f",
   "metadata": {},
   "source": [
    "Let's look at the video dataset at this point to see if everything went well. It looks good - now we will proceed to exploratory analysis part.To extract the Top 10 Videos from the videos list"
   ]
  },
  {
   "cell_type": "code",
   "execution_count": 39,
   "id": "010ce9c2",
   "metadata": {},
   "outputs": [
    {
     "data": {
      "text/html": [
       "<div>\n",
       "<style scoped>\n",
       "    .dataframe tbody tr th:only-of-type {\n",
       "        vertical-align: middle;\n",
       "    }\n",
       "\n",
       "    .dataframe tbody tr th {\n",
       "        vertical-align: top;\n",
       "    }\n",
       "\n",
       "    .dataframe thead th {\n",
       "        text-align: right;\n",
       "    }\n",
       "</style>\n",
       "<table border=\"1\" class=\"dataframe\">\n",
       "  <thead>\n",
       "    <tr style=\"text-align: right;\">\n",
       "      <th></th>\n",
       "      <th>video_id</th>\n",
       "      <th>channelTitle</th>\n",
       "      <th>title</th>\n",
       "      <th>description</th>\n",
       "      <th>tags</th>\n",
       "      <th>publishedAt</th>\n",
       "      <th>viewCount</th>\n",
       "      <th>likeCount</th>\n",
       "      <th>favouriteCount</th>\n",
       "      <th>commentCount</th>\n",
       "      <th>duration</th>\n",
       "      <th>definition</th>\n",
       "      <th>caption</th>\n",
       "      <th>pushblishDayName</th>\n",
       "      <th>durationSecs</th>\n",
       "      <th>tagsCount</th>\n",
       "      <th>likeRatio</th>\n",
       "      <th>commentRatio</th>\n",
       "      <th>titleLength</th>\n",
       "    </tr>\n",
       "  </thead>\n",
       "  <tbody>\n",
       "    <tr>\n",
       "      <th>0</th>\n",
       "      <td>P3RoteuI87Q</td>\n",
       "      <td>codebasics</td>\n",
       "      <td>Scholarship For Codebasics Data Analytics Course</td>\n",
       "      <td>There is a scholarship available for students ...</td>\n",
       "      <td>[yt:cc=on, power bi course, power bi tutorials...</td>\n",
       "      <td>2022-05-28 14:00:11+00:00</td>\n",
       "      <td>9311.0</td>\n",
       "      <td>404.0</td>\n",
       "      <td>NaN</td>\n",
       "      <td>110.0</td>\n",
       "      <td>PT7M28S</td>\n",
       "      <td>hd</td>\n",
       "      <td>false</td>\n",
       "      <td>Saturday</td>\n",
       "      <td>448.0</td>\n",
       "      <td>18</td>\n",
       "      <td>43.389539</td>\n",
       "      <td>11.813983</td>\n",
       "      <td>48</td>\n",
       "    </tr>\n",
       "    <tr>\n",
       "      <th>1</th>\n",
       "      <td>cElCnuA40os</td>\n",
       "      <td>codebasics</td>\n",
       "      <td>Power BI Tutorials For Beginners: The Course i...</td>\n",
       "      <td>My video course - Get Job Ready: Power BI Data...</td>\n",
       "      <td>[yt:cc=on, power bi tutorials, power bi for be...</td>\n",
       "      <td>2022-05-26 13:30:10+00:00</td>\n",
       "      <td>9994.0</td>\n",
       "      <td>378.0</td>\n",
       "      <td>NaN</td>\n",
       "      <td>116.0</td>\n",
       "      <td>PT12M50S</td>\n",
       "      <td>hd</td>\n",
       "      <td>false</td>\n",
       "      <td>Thursday</td>\n",
       "      <td>770.0</td>\n",
       "      <td>6</td>\n",
       "      <td>37.822694</td>\n",
       "      <td>11.606964</td>\n",
       "      <td>58</td>\n",
       "    </tr>\n",
       "    <tr>\n",
       "      <th>2</th>\n",
       "      <td>GUZwFRs9f5c</td>\n",
       "      <td>codebasics</td>\n",
       "      <td>Must have skill for exploratory data analysis.</td>\n",
       "      <td>Very easy to understand Pandas tutorials: http...</td>\n",
       "      <td>[pandas, python pandas, python pandas library,...</td>\n",
       "      <td>2022-05-21 15:00:14+00:00</td>\n",
       "      <td>11524.0</td>\n",
       "      <td>467.0</td>\n",
       "      <td>NaN</td>\n",
       "      <td>23.0</td>\n",
       "      <td>PT50S</td>\n",
       "      <td>hd</td>\n",
       "      <td>false</td>\n",
       "      <td>Saturday</td>\n",
       "      <td>50.0</td>\n",
       "      <td>13</td>\n",
       "      <td>40.524124</td>\n",
       "      <td>1.995835</td>\n",
       "      <td>46</td>\n",
       "    </tr>\n",
       "    <tr>\n",
       "      <th>3</th>\n",
       "      <td>poHVmxGpvW8</td>\n",
       "      <td>codebasics</td>\n",
       "      <td>Data science skills 10 years from now!</td>\n",
       "      <td>How can you find the best career for yourself?...</td>\n",
       "      <td>[data science full course, data scientist, mac...</td>\n",
       "      <td>2022-05-16 15:20:18+00:00</td>\n",
       "      <td>17423.0</td>\n",
       "      <td>821.0</td>\n",
       "      <td>NaN</td>\n",
       "      <td>36.0</td>\n",
       "      <td>PT53S</td>\n",
       "      <td>hd</td>\n",
       "      <td>false</td>\n",
       "      <td>Monday</td>\n",
       "      <td>53.0</td>\n",
       "      <td>11</td>\n",
       "      <td>47.121621</td>\n",
       "      <td>2.066234</td>\n",
       "      <td>38</td>\n",
       "    </tr>\n",
       "    <tr>\n",
       "      <th>4</th>\n",
       "      <td>gdHWoQWZGkk</td>\n",
       "      <td>codebasics</td>\n",
       "      <td>Part Of Speech POS Tagging: NLP Tutorial For B...</td>\n",
       "      <td>Part of speech or POS tagging is used to tag p...</td>\n",
       "      <td>[yt:cc=on, pos tagging, parts of speech taggin...</td>\n",
       "      <td>2022-05-14 15:00:12+00:00</td>\n",
       "      <td>4445.0</td>\n",
       "      <td>131.0</td>\n",
       "      <td>NaN</td>\n",
       "      <td>18.0</td>\n",
       "      <td>PT25M49S</td>\n",
       "      <td>hd</td>\n",
       "      <td>false</td>\n",
       "      <td>Saturday</td>\n",
       "      <td>1549.0</td>\n",
       "      <td>25</td>\n",
       "      <td>29.471316</td>\n",
       "      <td>4.049494</td>\n",
       "      <td>59</td>\n",
       "    </tr>\n",
       "  </tbody>\n",
       "</table>\n",
       "</div>"
      ],
      "text/plain": [
       "      video_id channelTitle  \\\n",
       "0  P3RoteuI87Q   codebasics   \n",
       "1  cElCnuA40os   codebasics   \n",
       "2  GUZwFRs9f5c   codebasics   \n",
       "3  poHVmxGpvW8   codebasics   \n",
       "4  gdHWoQWZGkk   codebasics   \n",
       "\n",
       "                                               title  \\\n",
       "0   Scholarship For Codebasics Data Analytics Course   \n",
       "1  Power BI Tutorials For Beginners: The Course i...   \n",
       "2     Must have skill for exploratory data analysis.   \n",
       "3             Data science skills 10 years from now!   \n",
       "4  Part Of Speech POS Tagging: NLP Tutorial For B...   \n",
       "\n",
       "                                         description  \\\n",
       "0  There is a scholarship available for students ...   \n",
       "1  My video course - Get Job Ready: Power BI Data...   \n",
       "2  Very easy to understand Pandas tutorials: http...   \n",
       "3  How can you find the best career for yourself?...   \n",
       "4  Part of speech or POS tagging is used to tag p...   \n",
       "\n",
       "                                                tags  \\\n",
       "0  [yt:cc=on, power bi course, power bi tutorials...   \n",
       "1  [yt:cc=on, power bi tutorials, power bi for be...   \n",
       "2  [pandas, python pandas, python pandas library,...   \n",
       "3  [data science full course, data scientist, mac...   \n",
       "4  [yt:cc=on, pos tagging, parts of speech taggin...   \n",
       "\n",
       "                publishedAt  viewCount  likeCount  favouriteCount  \\\n",
       "0 2022-05-28 14:00:11+00:00     9311.0      404.0             NaN   \n",
       "1 2022-05-26 13:30:10+00:00     9994.0      378.0             NaN   \n",
       "2 2022-05-21 15:00:14+00:00    11524.0      467.0             NaN   \n",
       "3 2022-05-16 15:20:18+00:00    17423.0      821.0             NaN   \n",
       "4 2022-05-14 15:00:12+00:00     4445.0      131.0             NaN   \n",
       "\n",
       "   commentCount  duration definition caption pushblishDayName  durationSecs  \\\n",
       "0         110.0   PT7M28S         hd   false         Saturday         448.0   \n",
       "1         116.0  PT12M50S         hd   false         Thursday         770.0   \n",
       "2          23.0     PT50S         hd   false         Saturday          50.0   \n",
       "3          36.0     PT53S         hd   false           Monday          53.0   \n",
       "4          18.0  PT25M49S         hd   false         Saturday        1549.0   \n",
       "\n",
       "   tagsCount  likeRatio  commentRatio  titleLength  \n",
       "0         18  43.389539     11.813983           48  \n",
       "1          6  37.822694     11.606964           58  \n",
       "2         13  40.524124      1.995835           46  \n",
       "3         11  47.121621      2.066234           38  \n",
       "4         25  29.471316      4.049494           59  "
      ]
     },
     "execution_count": 39,
     "metadata": {},
     "output_type": "execute_result"
    }
   ],
   "source": [
    "video_df.head()"
   ]
  },
  {
   "cell_type": "markdown",
   "id": "f1bd84a7",
   "metadata": {},
   "source": [
    "# Exploratory analysis"
   ]
  },
  {
   "cell_type": "markdown",
   "id": "8f508f47",
   "metadata": {},
   "source": [
    "Views distribution per channel"
   ]
  },
  {
   "cell_type": "code",
   "execution_count": 42,
   "id": "0a49301d",
   "metadata": {},
   "outputs": [
    {
     "name": "stderr",
     "output_type": "stream",
     "text": [
      "C:\\Users\\HP\\anaconda3\\lib\\site-packages\\seaborn\\_decorators.py:36: FutureWarning: Pass the following variables as keyword args: x, y. From version 0.12, the only valid positional argument will be `data`, and passing other arguments without an explicit keyword will result in an error or misinterpretation.\n",
      "  warnings.warn(\n"
     ]
    },
    {
     "data": {
      "image/png": "[encoded data removed]",
      "text/plain": [
       "<Figure size 1296x432 with 1 Axes>"
      ]
     },
     "metadata": {
      "needs_background": "light"
     },
     "output_type": "display_data"
    }
   ],
   "source": [
    "plt.rcParams['figure.figsize'] = (18, 6)\n",
    "sns.violinplot(video_df['channelTitle'], video_df['viewCount'], palette = 'pastel')\n",
    "plt.title('Views per channel', fontsize = 14)\n",
    "plt.show()"
   ]
  },
  {
   "cell_type": "markdown",
   "id": "e6dab502",
   "metadata": {},
   "source": [
    "## Does the number of likes and comments matter for a video to get more views?"
   ]
  },
  {
   "cell_type": "markdown",
   "id": "51e92c9a",
   "metadata": {},
   "source": [
    "Firstly, I would like to check if comments and likes do correlate with how many views a video would get. In the plots below, it can be observed that the number of views and number of comments/ likes strongly correlated with each other. The number of likes seems to suggest stronger correlation than the number of comments. However, this is expected as the more people watching a video, the more likely this video will get comments and likes."
   ]
  },
  {
   "cell_type": "code",
   "execution_count": 43,
   "id": "62d2aa11",
   "metadata": {},
   "outputs": [
    {
     "data": {
      "text/plain": [
       "<AxesSubplot:xlabel='likeCount', ylabel='viewCount'>"
      ]
     },
     "execution_count": 43,
     "metadata": {},
     "output_type": "execute_result"
    },
    {
     "data": {
      "image/png": "[encoded data removed]",
      "text/plain": [
       "<Figure size 1296x432 with 2 Axes>"
      ]
     },
     "metadata": {
      "needs_background": "light"
     },
     "output_type": "display_data"
    }
   ],
   "source": [
    "fig, ax =plt.subplots(1,2)\n",
    "sns.scatterplot(data = video_df, x = \"commentCount\", y = \"viewCount\", ax=ax[0])\n",
    "sns.scatterplot(data = video_df, x = \"likeCount\", y = \"viewCount\", ax=ax[1])"
   ]
  },
  {
   "cell_type": "markdown",
   "id": "0e9bc0fe",
   "metadata": {},
   "source": [
    "## Does the video duration matter for views and interaction (likes/ comments)?"
   ]
  },
  {
   "cell_type": "markdown",
   "id": "1962eb65",
   "metadata": {},
   "source": [
    "As can be seen in the histogram below, most videos are between 300 to 1200 seconds, which is about 5 to 20 minutes. Here I have to limit the duration to 10,000 because of some really long videos (potentially streaming videos)."
   ]
  },
  {
   "cell_type": "code",
   "execution_count": 44,
   "id": "80ca6d22",
   "metadata": {},
   "outputs": [
    {
     "data": {
      "text/plain": [
       "<AxesSubplot:xlabel='durationSecs', ylabel='Count'>"
      ]
     },
     "execution_count": 44,
     "metadata": {},
     "output_type": "execute_result"
    },
    {
     "data": {
      "image/png": "[encoded data removed]",
      "text/plain": [
       "<Figure size 1296x432 with 1 Axes>"
      ]
     },
     "metadata": {
      "needs_background": "light"
     },
     "output_type": "display_data"
    }
   ],
   "source": [
    "sns.histplot(data=video_df[video_df['durationSecs'] < 10000], x=\"durationSecs\", bins=30)"
   ]
  },
  {
   "cell_type": "markdown",
   "id": "a7c71466",
   "metadata": {},
   "source": [
    "Now we plot the duration against comment count and like count. It can be seen that actually shorter videos tend to get more likes and comments than very long videos."
   ]
  },
  {
   "cell_type": "code",
   "execution_count": 45,
   "id": "8c6cd97e",
   "metadata": {},
   "outputs": [
    {
     "data": {
      "text/plain": [
       "<AxesSubplot:xlabel='durationSecs', ylabel='likeCount'>"
      ]
     },
     "execution_count": 45,
     "metadata": {},
     "output_type": "execute_result"
    },
    {
     "data": {
      "image/png": "[encoded data removed]",
      "text/plain": [
       "<Figure size 1296x432 with 2 Axes>"
      ]
     },
     "metadata": {
      "needs_background": "light"
     },
     "output_type": "display_data"
    }
   ],
   "source": [
    "fig, ax =plt.subplots(1,2)\n",
    "sns.scatterplot(data = video_df, x = \"durationSecs\", y = \"commentCount\", ax=ax[0])\n",
    "sns.scatterplot(data = video_df, x = \"durationSecs\", y = \"likeCount\", ax=ax[1])"
   ]
  },
  {
   "cell_type": "markdown",
   "id": "d7874e79",
   "metadata": {},
   "source": [
    "### Does title length matter for views?"
   ]
  },
  {
   "cell_type": "markdown",
   "id": "146bcee8",
   "metadata": {},
   "source": [
    "There is no clear relationship between title length and views as seen the scatterplot below."
   ]
  },
  {
   "cell_type": "code",
   "execution_count": 46,
   "id": "daa802a4",
   "metadata": {},
   "outputs": [
    {
     "data": {
      "text/plain": [
       "<AxesSubplot:xlabel='titleLength', ylabel='viewCount'>"
      ]
     },
     "execution_count": 46,
     "metadata": {},
     "output_type": "execute_result"
    },
    {
     "data": {
      "image/png": "[encoded data removed]",
      "text/plain": [
       "<Figure size 1296x432 with 1 Axes>"
      ]
     },
     "metadata": {
      "needs_background": "light"
     },
     "output_type": "display_data"
    }
   ],
   "source": [
    "sns.scatterplot(data = video_df, x = \"titleLength\", y = \"viewCount\")"
   ]
  },
  {
   "cell_type": "markdown",
   "id": "50b16758",
   "metadata": {},
   "source": [
    "### Number of tags vs views"
   ]
  },
  {
   "cell_type": "markdown",
   "id": "b2c12347",
   "metadata": {},
   "source": [
    "It seems that most videos have between 5 and 30 tags. The relationship between number of tags and view count is not clearly seen, but too few tags or too many tags do seem to correlate with fewer views."
   ]
  },
  {
   "cell_type": "code",
   "execution_count": 47,
   "id": "4f60bb4a",
   "metadata": {},
   "outputs": [
    {
     "data": {
      "text/plain": [
       "<AxesSubplot:xlabel='tagsCount', ylabel='viewCount'>"
      ]
     },
     "execution_count": 47,
     "metadata": {},
     "output_type": "execute_result"
    },
    {
     "data": {
      "image/png": "[encoded data removed]",
      "text/plain": [
       "<Figure size 1296x432 with 1 Axes>"
      ]
     },
     "metadata": {
      "needs_background": "light"
     },
     "output_type": "display_data"
    }
   ],
   "source": [
    "sns.scatterplot(data = video_df, x = \"tagsCount\", y = \"viewCount\")"
   ]
  },
  {
   "cell_type": "markdown",
   "id": "de776b8f",
   "metadata": {},
   "source": [
    "# Conclusions and future research ideas"
   ]
  },
  {
   "cell_type": "markdown",
   "id": "8b16c34b",
   "metadata": {},
   "source": [
    "In this project, we have explored the video data of the 5 most popular Data science/ Data analyst channels and revealed many interesting findings for anyone who are starting out with a Youtube channel in data science or another topic:\n",
    "\n",
    "* The more likes and comments a video has, the more views the video gets (it is not guaranteed that this is a causal relationship, it is simply a correlation and can work both way). Likes seem to be a better indicator for interaction than comments and the number of likes seem to follow the \"social proof\", which means the more views the video has, the more people will like it.\n",
    "\n",
    "* Most videos have between 5 and 30 tags.\n",
    "\n",
    "* Most-viewed videos tend to have average title length of 30-70 characters. Too short or too long titles seem to harm viewership.\n"
   ]
  },
  {
   "cell_type": "markdown",
   "id": "29779d56",
   "metadata": {},
   "source": [
    "# References/ Resources used:"
   ]
  },
  {
   "cell_type": "markdown",
   "id": "f9fec74c",
   "metadata": {},
   "source": [
    "[1] Youtube API. Avaiable at https://developers.google.com/youtube/v3\n",
    "\n",
    "[2] A Reference for working on Youtube API for data analysis\n",
    "https://www.youtube.com/watch?v=D56_Cx36oGY&list=PLbHrOSG7nVN1z4XoLX7_RC-WkgZHc3tnV&index=3\n",
    "\n",
    "[3] A Reference to scrape Youtube using Youtube API for data analysis\n",
    "https://www.youtube.com/watch?v=SwSbnmqk3zY&list=PLavw5C92dz9HwT_uStsDdJbuBOt_XD0ch&index=1\n",
    "\n"
   ]
  }
 ],
 "metadata": {
  "kernelspec": {
   "display_name": "Python 3 (ipykernel)",
   "language": "python",
   "name": "python3"
  },
  "language_info": {
   "codemirror_mode": {
    "name": "ipython",
    "version": 3
   },
   "file_extension": ".py",
   "mimetype": "text/x-python",
   "name": "python",
   "nbconvert_exporter": "python",
   "pygments_lexer": "ipython3",
   "version": "3.9.7"
  }
 },
 "nbformat": 4,
 "nbformat_minor": 5
}
